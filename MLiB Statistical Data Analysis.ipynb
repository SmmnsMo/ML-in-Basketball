{
 "cells": [
  {
   "cell_type": "code",
   "execution_count": 2,
   "metadata": {},
   "outputs": [],
   "source": [
    "from scipy.stats import t\n",
    "from scipy.stats import norm\n",
    "import numpy as np\n",
    "import pandas as pd\n",
    "import matplotlib.pyplot as plt\n",
    "import scipy.stats as st"
   ]
  },
  {
   "cell_type": "code",
   "execution_count": 3,
   "metadata": {},
   "outputs": [],
   "source": [
    "df = pd.read_csv('Final.csv')"
   ]
  },
  {
   "cell_type": "code",
   "execution_count": 4,
   "metadata": {},
   "outputs": [
    {
     "data": {
      "text/html": [
       "<div>\n",
       "<style scoped>\n",
       "    .dataframe tbody tr th:only-of-type {\n",
       "        vertical-align: middle;\n",
       "    }\n",
       "\n",
       "    .dataframe tbody tr th {\n",
       "        vertical-align: top;\n",
       "    }\n",
       "\n",
       "    .dataframe thead th {\n",
       "        text-align: right;\n",
       "    }\n",
       "</style>\n",
       "<table border=\"1\" class=\"dataframe\">\n",
       "  <thead>\n",
       "    <tr style=\"text-align: right;\">\n",
       "      <th></th>\n",
       "      <th>Unnamed: 0</th>\n",
       "      <th>Player</th>\n",
       "      <th>season</th>\n",
       "      <th>NBA_Salary</th>\n",
       "      <th>Class</th>\n",
       "      <th>Pos</th>\n",
       "      <th>School</th>\n",
       "      <th>Conf</th>\n",
       "      <th>G</th>\n",
       "      <th>MP</th>\n",
       "      <th>...</th>\n",
       "      <th>PPG</th>\n",
       "      <th>APG</th>\n",
       "      <th>TRB/G</th>\n",
       "      <th>STL/G</th>\n",
       "      <th>TOV/G</th>\n",
       "      <th>BLK/G</th>\n",
       "      <th>3P%</th>\n",
       "      <th>FG%</th>\n",
       "      <th>eFG%</th>\n",
       "      <th>sal_as_%</th>\n",
       "    </tr>\n",
       "  </thead>\n",
       "  <tbody>\n",
       "    <tr>\n",
       "      <th>0</th>\n",
       "      <td>0</td>\n",
       "      <td>A.J. Hammons</td>\n",
       "      <td>2016</td>\n",
       "      <td>650000</td>\n",
       "      <td>4</td>\n",
       "      <td>C</td>\n",
       "      <td>Purdue</td>\n",
       "      <td>Big Ten</td>\n",
       "      <td>33</td>\n",
       "      <td>813.0</td>\n",
       "      <td>...</td>\n",
       "      <td>14.969697</td>\n",
       "      <td>1.121212</td>\n",
       "      <td>8.181818</td>\n",
       "      <td>0.272727</td>\n",
       "      <td>1.969697</td>\n",
       "      <td>2.545455</td>\n",
       "      <td>0.545455</td>\n",
       "      <td>0.592262</td>\n",
       "      <td>0.601190</td>\n",
       "      <td>0.006904</td>\n",
       "    </tr>\n",
       "    <tr>\n",
       "      <th>1</th>\n",
       "      <td>1</td>\n",
       "      <td>A.J. Price</td>\n",
       "      <td>2009</td>\n",
       "      <td>62552</td>\n",
       "      <td>4</td>\n",
       "      <td>G</td>\n",
       "      <td>Connecticut</td>\n",
       "      <td>Big East</td>\n",
       "      <td>35</td>\n",
       "      <td>1112.0</td>\n",
       "      <td>...</td>\n",
       "      <td>14.714286</td>\n",
       "      <td>4.685714</td>\n",
       "      <td>3.485714</td>\n",
       "      <td>0.685714</td>\n",
       "      <td>2.685714</td>\n",
       "      <td>0.000000</td>\n",
       "      <td>0.401961</td>\n",
       "      <td>0.407674</td>\n",
       "      <td>0.505995</td>\n",
       "      <td>0.001084</td>\n",
       "    </tr>\n",
       "    <tr>\n",
       "      <th>2</th>\n",
       "      <td>2</td>\n",
       "      <td>Aaron Brooks</td>\n",
       "      <td>2007</td>\n",
       "      <td>972720</td>\n",
       "      <td>4</td>\n",
       "      <td>G</td>\n",
       "      <td>Oregon</td>\n",
       "      <td>Pac-10</td>\n",
       "      <td>35</td>\n",
       "      <td>1289.0</td>\n",
       "      <td>...</td>\n",
       "      <td>17.742857</td>\n",
       "      <td>4.257143</td>\n",
       "      <td>4.257143</td>\n",
       "      <td>1.371429</td>\n",
       "      <td>2.542857</td>\n",
       "      <td>0.171429</td>\n",
       "      <td>0.404040</td>\n",
       "      <td>0.460043</td>\n",
       "      <td>0.546436</td>\n",
       "      <td>0.017486</td>\n",
       "    </tr>\n",
       "    <tr>\n",
       "      <th>3</th>\n",
       "      <td>3</td>\n",
       "      <td>Aaron Gray</td>\n",
       "      <td>2007</td>\n",
       "      <td>427163</td>\n",
       "      <td>4</td>\n",
       "      <td>C</td>\n",
       "      <td>Pittsburgh</td>\n",
       "      <td>Big East</td>\n",
       "      <td>36</td>\n",
       "      <td>1016.0</td>\n",
       "      <td>...</td>\n",
       "      <td>13.861111</td>\n",
       "      <td>1.694444</td>\n",
       "      <td>9.472222</td>\n",
       "      <td>0.416667</td>\n",
       "      <td>1.527778</td>\n",
       "      <td>1.722222</td>\n",
       "      <td>0.000000</td>\n",
       "      <td>0.565097</td>\n",
       "      <td>0.565097</td>\n",
       "      <td>0.007679</td>\n",
       "    </tr>\n",
       "    <tr>\n",
       "      <th>4</th>\n",
       "      <td>4</td>\n",
       "      <td>Acie Law</td>\n",
       "      <td>2007</td>\n",
       "      <td>203057</td>\n",
       "      <td>4</td>\n",
       "      <td>G</td>\n",
       "      <td>Texas A&amp;M</td>\n",
       "      <td>Big 12</td>\n",
       "      <td>34</td>\n",
       "      <td>1153.0</td>\n",
       "      <td>...</td>\n",
       "      <td>18.058824</td>\n",
       "      <td>4.970588</td>\n",
       "      <td>3.323529</td>\n",
       "      <td>1.147059</td>\n",
       "      <td>2.588235</td>\n",
       "      <td>0.029412</td>\n",
       "      <td>0.457831</td>\n",
       "      <td>0.500000</td>\n",
       "      <td>0.543981</td>\n",
       "      <td>0.003650</td>\n",
       "    </tr>\n",
       "  </tbody>\n",
       "</table>\n",
       "<p>5 rows × 37 columns</p>\n",
       "</div>"
      ],
      "text/plain": [
       "   Unnamed: 0        Player  season  NBA_Salary  Class Pos       School  \\\n",
       "0           0  A.J. Hammons    2016      650000      4   C       Purdue   \n",
       "1           1    A.J. Price    2009       62552      4   G  Connecticut   \n",
       "2           2  Aaron Brooks    2007      972720      4   G       Oregon   \n",
       "3           3    Aaron Gray    2007      427163      4   C   Pittsburgh   \n",
       "4           4      Acie Law    2007      203057      4   G    Texas A&M   \n",
       "\n",
       "       Conf   G      MP  ...        PPG       APG     TRB/G     STL/G  \\\n",
       "0   Big Ten  33   813.0  ...  14.969697  1.121212  8.181818  0.272727   \n",
       "1  Big East  35  1112.0  ...  14.714286  4.685714  3.485714  0.685714   \n",
       "2    Pac-10  35  1289.0  ...  17.742857  4.257143  4.257143  1.371429   \n",
       "3  Big East  36  1016.0  ...  13.861111  1.694444  9.472222  0.416667   \n",
       "4    Big 12  34  1153.0  ...  18.058824  4.970588  3.323529  1.147059   \n",
       "\n",
       "      TOV/G     BLK/G       3P%       FG%      eFG%  sal_as_%  \n",
       "0  1.969697  2.545455  0.545455  0.592262  0.601190  0.006904  \n",
       "1  2.685714  0.000000  0.401961  0.407674  0.505995  0.001084  \n",
       "2  2.542857  0.171429  0.404040  0.460043  0.546436  0.017486  \n",
       "3  1.527778  1.722222  0.000000  0.565097  0.565097  0.007679  \n",
       "4  2.588235  0.029412  0.457831  0.500000  0.543981  0.003650  \n",
       "\n",
       "[5 rows x 37 columns]"
      ]
     },
     "execution_count": 4,
     "metadata": {},
     "output_type": "execute_result"
    }
   ],
   "source": [
    "df.head()"
   ]
  },
  {
   "cell_type": "code",
   "execution_count": 5,
   "metadata": {},
   "outputs": [],
   "source": [
    "#querying for each position \n",
    "guards = df.query('Pos == \"G\"')\n",
    "centers = df.query('Pos == \"C\"')\n",
    "forwards = df.query('Pos == \"F\"')"
   ]
  },
  {
   "cell_type": "code",
   "execution_count": 6,
   "metadata": {},
   "outputs": [
    {
     "data": {
      "text/plain": [
       "Text(0.5, 1.0, 'Distribution of blocks for guards')"
      ]
     },
     "execution_count": 6,
     "metadata": {},
     "output_type": "execute_result"
    },
    {
     "data": {
      "image/png": "[encoded data removed]",
      "text/plain": [
       "<Figure size 432x288 with 1 Axes>"
      ]
     },
     "metadata": {
      "needs_background": "light"
     },
     "output_type": "display_data"
    }
   ],
   "source": [
    "#Plotting the distribution of blocks\n",
    "plt.hist('BLK', bins = 40, data = guards)\n",
    "plt.xlabel('Blocks in last college season')\n",
    "plt.ylabel('Number of players')\n",
    "plt.title('Distribution of blocks for guards')"
   ]
  },
  {
   "cell_type": "markdown",
   "metadata": {},
   "source": [
    "We see that the distribution of blocks for guards is skewed to the right."
   ]
  },
  {
   "cell_type": "markdown",
   "metadata": {},
   "source": [
    "I want to find the confidence interval, t-statistic and standard deviation for blocks to see how many blocks for guards are unusually large for the position."
   ]
  },
  {
   "cell_type": "code",
   "execution_count": 7,
   "metadata": {},
   "outputs": [
    {
     "data": {
      "text/plain": [
       "12.946188340807176"
      ]
     },
     "execution_count": 7,
     "metadata": {},
     "output_type": "execute_result"
    }
   ],
   "source": [
    "#Calculating the mean blocks for guards\n",
    "blk_mean = np.mean(guards['BLK'])\n",
    "blk_mean"
   ]
  },
  {
   "cell_type": "code",
   "execution_count": 8,
   "metadata": {},
   "outputs": [
    {
     "data": {
      "text/plain": [
       "10.77893524948127"
      ]
     },
     "execution_count": 8,
     "metadata": {},
     "output_type": "execute_result"
    }
   ],
   "source": [
    "#Standard deviation of blocks for guards\n",
    "blk_stdev = np.std(guards['BLK'])\n",
    "blk_stdev"
   ]
  },
  {
   "cell_type": "code",
   "execution_count": 9,
   "metadata": {},
   "outputs": [
    {
     "data": {
      "text/plain": [
       "-1.6517153201223576"
      ]
     },
     "execution_count": 9,
     "metadata": {},
     "output_type": "execute_result"
    }
   ],
   "source": [
    "#Critical value for blocks\n",
    "critical_value_blk = t.ppf(.05, 223)\n",
    "critical_value_blk"
   ]
  },
  {
   "cell_type": "code",
   "execution_count": 11,
   "metadata": {},
   "outputs": [
    {
     "data": {
      "text/plain": [
       "-1.1922261094860749"
      ]
     },
     "execution_count": 11,
     "metadata": {},
     "output_type": "execute_result"
    }
   ],
   "source": [
    "#Finding the margin of error \n",
    "margin_of_error = (critical_value_blk * blk_stdev)/np.sqrt(223)\n",
    "margin_of_error"
   ]
  },
  {
   "cell_type": "code",
   "execution_count": 12,
   "metadata": {},
   "outputs": [
    {
     "data": {
      "text/plain": [
       "[11.7539622313211, 14.13841445029325]"
      ]
     },
     "execution_count": 12,
     "metadata": {},
     "output_type": "execute_result"
    }
   ],
   "source": [
    "#Confidence interval of blocks for guards\n",
    "blk_ci = [blk_mean + margin_of_error, blk_mean - margin_of_error]\n",
    "blk_ci"
   ]
  },
  {
   "cell_type": "code",
   "execution_count": 13,
   "metadata": {},
   "outputs": [],
   "source": [
    "#Using bootstrap statistics to verify the confidence interval\n",
    "def draw_bs_reps(data, func, size):\n",
    "    #Empty array\n",
    "    bs_replicates = np.empty(size)\n",
    "    \n",
    "    #Generate replicates\n",
    "    for i in range(size):\n",
    "        bs_replicates[i] = func(np.random.choice(data, size = len(data)))\n",
    "        \n",
    "    return bs_replicates"
   ]
  },
  {
   "cell_type": "code",
   "execution_count": 14,
   "metadata": {},
   "outputs": [
    {
     "data": {
      "text/plain": [
       "array([14.46636771, 12.05381166, 13.53811659, ..., 13.05381166,\n",
       "       13.1838565 , 12.64125561])"
      ]
     },
     "execution_count": 14,
     "metadata": {},
     "output_type": "execute_result"
    }
   ],
   "source": [
    "#Bootstrap replicates of blocks\n",
    "np.random.seed(40)\n",
    "bs_reps_blk = draw_bs_reps(guards['BLK'], np.mean, 10000)\n",
    "bs_reps_blk"
   ]
  },
  {
   "cell_type": "code",
   "execution_count": 15,
   "metadata": {},
   "outputs": [
    {
     "data": {
      "text/plain": [
       "array([11.76233184, 14.13004484])"
      ]
     },
     "execution_count": 15,
     "metadata": {},
     "output_type": "execute_result"
    }
   ],
   "source": [
    "#Bootstrapped confidence interval\n",
    "np.percentile(bs_reps_blk, [5, 95])"
   ]
  },
  {
   "cell_type": "code",
   "execution_count": 16,
   "metadata": {},
   "outputs": [
    {
     "data": {
      "text/plain": [
       "(0.25190943857220666, 0.00014343529621214932)"
      ]
     },
     "execution_count": 16,
     "metadata": {},
     "output_type": "execute_result"
    }
   ],
   "source": [
    "#Correlation coefficient and P-Value for blocks against Salary\n",
    "st.pearsonr(guards['BLK'], guards['sal_as_%'])"
   ]
  },
  {
   "cell_type": "markdown",
   "metadata": {},
   "source": [
    "Our bootstrap replicates resemble a confidence interval similar to our initial confidence interval"
   ]
  },
  {
   "cell_type": "code",
   "execution_count": 17,
   "metadata": {},
   "outputs": [
    {
     "data": {
      "text/plain": [
       "Text(0.5, 1.0, 'Distribution of Total rebounds for forwards')"
      ]
     },
     "execution_count": 17,
     "metadata": {},
     "output_type": "execute_result"
    },
    {
     "data": {
      "image/png": "[encoded data removed]",
      "text/plain": [
       "<Figure size 432x288 with 1 Axes>"
      ]
     },
     "metadata": {
      "needs_background": "light"
     },
     "output_type": "display_data"
    }
   ],
   "source": [
    "#Plotting the distribution rebounds for forwards\n",
    "plt.hist('TRB', bins = 20, data = forwards)\n",
    "plt.xlabel('Total Rebounds')\n",
    "plt.ylabel('Count of players')\n",
    "plt.title('Distribution of Total rebounds for forwards')"
   ]
  },
  {
   "cell_type": "markdown",
   "metadata": {},
   "source": [
    "The distribution of total rebounds for forwards resembles a normal distribution."
   ]
  },
  {
   "cell_type": "code",
   "execution_count": 18,
   "metadata": {},
   "outputs": [
    {
     "data": {
      "text/plain": [
       "283.1666666666667"
      ]
     },
     "execution_count": 18,
     "metadata": {},
     "output_type": "execute_result"
    }
   ],
   "source": [
    "trb_mean = np.mean(forwards['TRB'])\n",
    "trb_mean"
   ]
  },
  {
   "cell_type": "code",
   "execution_count": 19,
   "metadata": {},
   "outputs": [
    {
     "data": {
      "text/plain": [
       "79.85157914129205"
      ]
     },
     "execution_count": 19,
     "metadata": {},
     "output_type": "execute_result"
    }
   ],
   "source": [
    "trb_stdev = np.std(forwards['TRB'])\n",
    "trb_stdev"
   ]
  },
  {
   "cell_type": "code",
   "execution_count": 20,
   "metadata": {},
   "outputs": [
    {
     "data": {
      "text/plain": [
       "-1.6543139565251872"
      ]
     },
     "execution_count": 20,
     "metadata": {},
     "output_type": "execute_result"
    }
   ],
   "source": [
    "critical_value_trb = t.ppf(.05, 162)\n",
    "critical_value_trb"
   ]
  },
  {
   "cell_type": "code",
   "execution_count": 21,
   "metadata": {},
   "outputs": [
    {
     "data": {
      "text/plain": [
       "-10.378723344407575"
      ]
     },
     "execution_count": 21,
     "metadata": {},
     "output_type": "execute_result"
    }
   ],
   "source": [
    "margin_of_error_trb = (critical_value_trb * trb_stdev)/np.sqrt(162)\n",
    "margin_of_error_trb"
   ]
  },
  {
   "cell_type": "code",
   "execution_count": 22,
   "metadata": {},
   "outputs": [
    {
     "data": {
      "text/plain": [
       "[272.78794332225914, 293.54539001107423]"
      ]
     },
     "execution_count": 22,
     "metadata": {},
     "output_type": "execute_result"
    }
   ],
   "source": [
    "trb_ci = [trb_mean + margin_of_error_trb, trb_mean - margin_of_error_trb]\n",
    "trb_ci"
   ]
  },
  {
   "cell_type": "code",
   "execution_count": 23,
   "metadata": {},
   "outputs": [
    {
     "data": {
      "text/plain": [
       "array([279.48148148, 292.96296296, 274.42592593, ..., 288.08641975,\n",
       "       282.49382716, 281.63580247])"
      ]
     },
     "execution_count": 23,
     "metadata": {},
     "output_type": "execute_result"
    }
   ],
   "source": [
    "#Verifying the confidence interval for total rebounds\n",
    "np.random.seed(40)\n",
    "bs_reps_trb = draw_bs_reps(forwards['TRB'], np.mean, 10000)\n",
    "bs_reps_trb"
   ]
  },
  {
   "cell_type": "code",
   "execution_count": 24,
   "metadata": {},
   "outputs": [
    {
     "data": {
      "text/plain": [
       "array([272.93209877, 293.40185185])"
      ]
     },
     "execution_count": 24,
     "metadata": {},
     "output_type": "execute_result"
    }
   ],
   "source": [
    "np.percentile(bs_reps_trb, [5,95])"
   ]
  },
  {
   "cell_type": "code",
   "execution_count": 25,
   "metadata": {},
   "outputs": [
    {
     "data": {
      "text/plain": [
       "(0.25190943857220666, 0.00014343529621214932)"
      ]
     },
     "execution_count": 25,
     "metadata": {},
     "output_type": "execute_result"
    }
   ],
   "source": [
    "st.pearsonr(guards['BLK'], guards['sal_as_%'])"
   ]
  },
  {
   "cell_type": "code",
   "execution_count": 26,
   "metadata": {},
   "outputs": [
    {
     "data": {
      "text/plain": [
       "(array([2., 1., 0., 0., 0., 1., 2., 1., 1., 2., 2., 1., 1., 0., 0., 2., 2.,\n",
       "        0., 0., 0., 2., 1., 0., 1., 0., 1., 1., 0., 1., 1.]),\n",
       " array([168. , 171.7, 175.4, 179.1, 182.8, 186.5, 190.2, 193.9, 197.6,\n",
       "        201.3, 205. , 208.7, 212.4, 216.1, 219.8, 223.5, 227.2, 230.9,\n",
       "        234.6, 238.3, 242. , 245.7, 249.4, 253.1, 256.8, 260.5, 264.2,\n",
       "        267.9, 271.6, 275.3, 279. ]),\n",
       " <a list of 30 Patch objects>)"
      ]
     },
     "execution_count": 26,
     "metadata": {},
     "output_type": "execute_result"
    },
    {
     "data": {
      "image/png": "[encoded data removed]",
      "text/plain": [
       "<Figure size 432x288 with 1 Axes>"
      ]
     },
     "metadata": {
      "needs_background": "light"
     },
     "output_type": "display_data"
    }
   ],
   "source": [
    "#Finding the centers' point distribution\n",
    "plt.hist('FG', bins = 30, data = centers)"
   ]
  },
  {
   "cell_type": "markdown",
   "metadata": {},
   "source": [
    "We have a very small sample size for centers (n = 26) which is why our distribution looks the way it does. Because of this, we will not include centers from now on."
   ]
  },
  {
   "cell_type": "code",
   "execution_count": 27,
   "metadata": {},
   "outputs": [],
   "source": [
    "def pearsonr_ci(x,y,alpha=0.05):\n",
    "    ''' calculate Pearson correlation along with the confidence interval using scipy and numpy\n",
    "    Parameters\n",
    "    ----------\n",
    "    x, y : iterable object such as a list or np.array\n",
    "      Input for correlation calculation\n",
    "    alpha : float\n",
    "      Significance level. 0.05 by default\n",
    "    Returns\n",
    "    -------\n",
    "    r : float\n",
    "      Pearson's correlation coefficient\n",
    "    pval : float\n",
    "      The corresponding p value\n",
    "    lo, hi : float\n",
    "      The lower and upper bound of confidence intervals\n",
    "    '''\n",
    "\n",
    "    r, p = st.pearsonr(x,y)\n",
    "    r_z = np.arctanh(r)\n",
    "    se = 1/np.sqrt(x.size-3)\n",
    "    z = st.norm.ppf(1-alpha/2)\n",
    "    lo_z, hi_z = r_z-z*se, r_z+z*se\n",
    "    lo, hi = np.tanh((lo_z, hi_z))\n",
    "    return r, p, lo, hi"
   ]
  },
  {
   "cell_type": "code",
   "execution_count": 57,
   "metadata": {},
   "outputs": [],
   "source": [
    "def pearsonr_ci_t(x,y,alpha):\n",
    "    ''' calculate Pearson correlation along with the confidence interval using scipy and numpy\n",
    "    Parameters\n",
    "    ----------\n",
    "    x, y : iterable object such as a list or np.array\n",
    "      Input for correlation calculation\n",
    "    alpha : float\n",
    "      Significance level. 0.05 by default\n",
    "    Returns\n",
    "    -------\n",
    "    r : float\n",
    "      Pearson's correlation coefficient\n",
    "    pval : float\n",
    "      The corresponding p value\n",
    "    lo, hi : float\n",
    "      The lower and upper bound of confidence intervals\n",
    "    '''\n",
    "\n",
    "    r, p = st.pearsonr(x,y)\n",
    "    r_z = np.arctanh(r)\n",
    "    se = 1/np.sqrt(x.size-3)\n",
    "    z = st.norm.ppf(1-alpha/2)\n",
    "    lo_z, hi_z = r_z-z*se, r_z+z*se\n",
    "    lo, hi = np.tanh((lo_z, hi_z))\n",
    "    return r, p, lo, hi"
   ]
  },
  {
   "cell_type": "code",
   "execution_count": 59,
   "metadata": {},
   "outputs": [
    {
     "data": {
      "text/plain": [
       "(0.25190943857220666,\n",
       " 0.00014343529621214932,\n",
       " 0.12465804061599098,\n",
       " 0.371007864886548)"
      ]
     },
     "execution_count": 59,
     "metadata": {},
     "output_type": "execute_result"
    }
   ],
   "source": [
    "# Calculating confidence interval for blocks by position\n",
    "pearsonr_ci(guards['BLK'], guards['sal_as_%'])"
   ]
  },
  {
   "cell_type": "code",
   "execution_count": 30,
   "metadata": {},
   "outputs": [
    {
     "data": {
      "text/plain": [
       "(0.20489486556546788,\n",
       " 0.008909672620042474,\n",
       " 0.05235345657631831,\n",
       " 0.34809273013116)"
      ]
     },
     "execution_count": 30,
     "metadata": {},
     "output_type": "execute_result"
    }
   ],
   "source": [
    "pearsonr_ci(forwards['BLK'], forwards['sal_as_%'])"
   ]
  },
  {
   "cell_type": "code",
   "execution_count": 32,
   "metadata": {},
   "outputs": [
    {
     "data": {
      "text/plain": [
       "[0.246, 0.296, 0.774]"
      ]
     },
     "execution_count": 32,
     "metadata": {},
     "output_type": "execute_result"
    }
   ],
   "source": [
    "BLK_array = [.371-.125, .348-.052, .349 + .425]\n",
    "BLK_array"
   ]
  },
  {
   "cell_type": "code",
   "execution_count": 33,
   "metadata": {},
   "outputs": [
    {
     "data": {
      "text/plain": [
       "(0.2021775893716762,\n",
       " 0.0024167255382192376,\n",
       " 0.0727325041721772,\n",
       " 0.3249240930544266)"
      ]
     },
     "execution_count": 33,
     "metadata": {},
     "output_type": "execute_result"
    }
   ],
   "source": [
    "#Calculating confidence interval for steals by position\n",
    "pearsonr_ci(guards['STL'], guards['sal_as_%'])"
   ]
  },
  {
   "cell_type": "code",
   "execution_count": 34,
   "metadata": {},
   "outputs": [
    {
     "data": {
      "text/plain": [
       "(0.163209721744561,\n",
       " 0.03797076928123088,\n",
       " 0.009246976349964285,\n",
       " 0.30961338671240796)"
      ]
     },
     "execution_count": 34,
     "metadata": {},
     "output_type": "execute_result"
    }
   ],
   "source": [
    "pearsonr_ci(forwards['STL'], forwards['sal_as_%'])"
   ]
  },
  {
   "cell_type": "code",
   "execution_count": 36,
   "metadata": {},
   "outputs": [
    {
     "data": {
      "text/plain": [
       "[0.252, 0.301, 0.756]"
      ]
     },
     "execution_count": 36,
     "metadata": {},
     "output_type": "execute_result"
    }
   ],
   "source": [
    "STL_Array = [.325-.073, .310-.009, .521+.235]\n",
    "STL_Array"
   ]
  },
  {
   "cell_type": "code",
   "execution_count": 37,
   "metadata": {},
   "outputs": [
    {
     "data": {
      "text/plain": [
       "(0.15640094173770894,\n",
       " 0.01944762342661438,\n",
       " 0.025548940051494964,\n",
       " 0.28198385181159713)"
      ]
     },
     "execution_count": 37,
     "metadata": {},
     "output_type": "execute_result"
    }
   ],
   "source": [
    "#Calculating confidence interval for free throw attempts by position\n",
    "pearsonr_ci(guards['FTA'], guards['sal_as_%'])"
   ]
  },
  {
   "cell_type": "code",
   "execution_count": 38,
   "metadata": {},
   "outputs": [
    {
     "data": {
      "text/plain": [
       "(0.21615504946800057,\n",
       " 0.005733627871466944,\n",
       " 0.06409591789475674,\n",
       " 0.35840482782687166)"
      ]
     },
     "execution_count": 38,
     "metadata": {},
     "output_type": "execute_result"
    }
   ],
   "source": [
    "pearsonr_ci(forwards['FTA'], forwards['sal_as_%'])"
   ]
  },
  {
   "cell_type": "code",
   "execution_count": 40,
   "metadata": {},
   "outputs": [
    {
     "data": {
      "text/plain": [
       "[0.25699999999999995, 0.294, 0.751]"
      ]
     },
     "execution_count": 40,
     "metadata": {},
     "output_type": "execute_result"
    }
   ],
   "source": [
    "FTA_Array = [.282 - .025, .358-.064, .538+.213]\n",
    "FTA_Array"
   ]
  },
  {
   "cell_type": "code",
   "execution_count": 41,
   "metadata": {},
   "outputs": [
    {
     "data": {
      "text/plain": [
       "(0.17756400657510085,\n",
       " 0.007864132226384574,\n",
       " 0.04729021620533548,\n",
       " 0.3018983441565977)"
      ]
     },
     "execution_count": 41,
     "metadata": {},
     "output_type": "execute_result"
    }
   ],
   "source": [
    "#Calcluating confidence interval for defensive rebounds by position\n",
    "pearsonr_ci(guards['DRB'], guards['sal_as_%'])"
   ]
  },
  {
   "cell_type": "code",
   "execution_count": 42,
   "metadata": {},
   "outputs": [
    {
     "data": {
      "text/plain": [
       "(0.2346895003640908,\n",
       " 0.0026464024330590916,\n",
       " 0.08351633752428485,\n",
       " 0.37530345504185036)"
      ]
     },
     "execution_count": 42,
     "metadata": {},
     "output_type": "execute_result"
    }
   ],
   "source": [
    "pearsonr_ci(forwards['DRB'], forwards['sal_as_%'])"
   ]
  },
  {
   "cell_type": "code",
   "execution_count": 44,
   "metadata": {},
   "outputs": [
    {
     "data": {
      "text/plain": [
       "[0.2537, 0.291, 0.757]"
      ]
     },
     "execution_count": 44,
     "metadata": {},
     "output_type": "execute_result"
    }
   ],
   "source": [
    "DRB_Array = [.301- .0473, .375-.084, .519 + .238]\n",
    "DRB_Array"
   ]
  },
  {
   "cell_type": "code",
   "execution_count": 87,
   "metadata": {},
   "outputs": [
    {
     "data": {
      "text/plain": [
       "Ttest_indResult(statistic=-2.206268874879565, pvalue=0.028063995609427395)"
      ]
     },
     "execution_count": 87,
     "metadata": {},
     "output_type": "execute_result"
    }
   ],
   "source": [
    "#Pulling guards and forwards data to conduct t-test\n",
    "#t-test for free throw attempts\n",
    "st.ttest_ind(guards['FTA'], forwards['FTA'], equal_var = False)"
   ]
  },
  {
   "cell_type": "code",
   "execution_count": 86,
   "metadata": {},
   "outputs": [
    {
     "data": {
      "text/plain": [
       "Ttest_indResult(statistic=7.768129615949506, pvalue=8.092043477493745e-14)"
      ]
     },
     "execution_count": 86,
     "metadata": {},
     "output_type": "execute_result"
    }
   ],
   "source": [
    "#t-test for steals\n",
    "st.ttest_ind(guards['STL'], forwards['STL'], equal_var = False)"
   ]
  },
  {
   "cell_type": "markdown",
   "metadata": {},
   "source": [
    "Looking for the median of the relevant stats for forwards and guards."
   ]
  },
  {
   "cell_type": "code",
   "execution_count": 88,
   "metadata": {},
   "outputs": [
    {
     "name": "stdout",
     "output_type": "stream",
     "text": [
      "10.0 54\n"
     ]
    }
   ],
   "source": [
    "#Median and max of blocks for guards\n",
    "print(np.median(guards['BLK']), np.max(guards['BLK']))"
   ]
  },
  {
   "cell_type": "code",
   "execution_count": 89,
   "metadata": {},
   "outputs": [
    {
     "name": "stdout",
     "output_type": "stream",
     "text": [
      "34.5 186\n"
     ]
    }
   ],
   "source": [
    "#Median and max of blocks for forwards\n",
    "print(np.median(forwards['BLK']), np.max(forwards['BLK']))"
   ]
  },
  {
   "cell_type": "code",
   "execution_count": 75,
   "metadata": {},
   "outputs": [
    {
     "name": "stdout",
     "output_type": "stream",
     "text": [
      "49.0 [38. 63.]\n"
     ]
    }
   ],
   "source": [
    "#Median and max of steals for guards\n",
    "print(np.median(guards['STL']),np.percentile(guards['STL'],[25,75]))"
   ]
  },
  {
   "cell_type": "code",
   "execution_count": 76,
   "metadata": {},
   "outputs": [
    {
     "name": "stdout",
     "output_type": "stream",
     "text": [
      "35.0 [25. 47.]\n"
     ]
    }
   ],
   "source": [
    "#Median and max of steals for forwards\n",
    "print(np.median(forwards['STL']),np.percentile(forwards['STL'],[25,75]))"
   ]
  },
  {
   "cell_type": "code",
   "execution_count": 79,
   "metadata": {},
   "outputs": [
    {
     "name": "stdout",
     "output_type": "stream",
     "text": [
      "176.0 315\n"
     ]
    }
   ],
   "source": [
    "#Median and max of free throw attempts for guards\n",
    "print(np.median(guards['FTA']), np.max(guards['FTA']))"
   ]
  },
  {
   "cell_type": "code",
   "execution_count": 80,
   "metadata": {},
   "outputs": [
    {
     "name": "stdout",
     "output_type": "stream",
     "text": [
      "191.0 336\n"
     ]
    }
   ],
   "source": [
    "#Median and max of free throw attempts for forwards\n",
    "print(np.median(forwards['FTA']), np.max(forwards['FTA']))"
   ]
  },
  {
   "cell_type": "code",
   "execution_count": 82,
   "metadata": {},
   "outputs": [
    {
     "name": "stdout",
     "output_type": "stream",
     "text": [
      "117.0 155.25\n"
     ]
    }
   ],
   "source": [
    "#Median and max of defensive rebounds for forwards\n",
    "print(np.median(guards['DRB']), np.percentile(forwards['DRB'], 25))"
   ]
  },
  {
   "cell_type": "code",
   "execution_count": 85,
   "metadata": {},
   "outputs": [
    {
     "name": "stdout",
     "output_type": "stream",
     "text": [
      "[556.  677.5] [530.5 647. ]\n"
     ]
    }
   ],
   "source": [
    "#Median and max of defensive rebounds for guards\n",
    "print((np.percentile(guards['PTS'],[25,75])), (np.percentile(forwards['PTS'], [25,75])))"
   ]
  },
  {
   "cell_type": "code",
   "execution_count": 7,
   "metadata": {},
   "outputs": [
    {
     "name": "stdout",
     "output_type": "stream",
     "text": [
      "223\n"
     ]
    }
   ],
   "source": [
    "print(len(guards))"
   ]
  },
  {
   "cell_type": "code",
   "execution_count": 8,
   "metadata": {},
   "outputs": [
    {
     "name": "stdout",
     "output_type": "stream",
     "text": [
      "188\n"
     ]
    }
   ],
   "source": [
    "print(len(centers) + len(forwards))"
   ]
  },
  {
   "cell_type": "code",
   "execution_count": null,
   "metadata": {},
   "outputs": [],
   "source": []
  },
  {
   "cell_type": "code",
   "execution_count": null,
   "metadata": {},
   "outputs": [],
   "source": []
  }
 ],
 "metadata": {
  "kernelspec": {
   "display_name": "Python 3",
   "language": "python",
   "name": "python3"
  },
  "language_info": {
   "codemirror_mode": {
    "name": "ipython",
    "version": 3
   },
   "file_extension": ".py",
   "mimetype": "text/x-python",
   "name": "python",
   "nbconvert_exporter": "python",
   "pygments_lexer": "ipython3",
   "version": "3.7.3"
  }
 },
 "nbformat": 4,
 "nbformat_minor": 2
}
